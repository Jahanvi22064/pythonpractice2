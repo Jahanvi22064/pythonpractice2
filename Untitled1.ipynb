{
  "nbformat": 4,
  "nbformat_minor": 0,
  "metadata": {
    "colab": {
      "provenance": [],
      "authorship_tag": "ABX9TyNY/el2ODjyJJxcGg4Xx4JH",
      "include_colab_link": true
    },
    "kernelspec": {
      "name": "python3",
      "display_name": "Python 3"
    },
    "language_info": {
      "name": "python"
    }
  },
  "cells": [
    {
      "cell_type": "markdown",
      "metadata": {
        "id": "view-in-github",
        "colab_type": "text"
      },
      "source": [
        "<a href=\"https://colab.research.google.com/github/Jahanvi22064/pythonpractice2/blob/main/Untitled1.ipynb\" target=\"_parent\"><img src=\"https://colab.research.google.com/assets/colab-badge.svg\" alt=\"Open In Colab\"/></a>"
      ]
    },
    {
      "cell_type": "code",
      "execution_count": 7,
      "metadata": {
        "id": "8YFhSJet7X8a",
        "colab": {
          "base_uri": "https://localhost:8080/"
        },
        "outputId": "b6789650-1e72-4718-bdaa-e978d5480f8b"
      },
      "outputs": [
        {
          "output_type": "stream",
          "name": "stdout",
          "text": [
            "enter the no of elements3\n",
            "enter the no.1\n",
            "enter the no.2\n",
            "enter the no.3\n",
            "the sum of all elements is = 6\n"
          ]
        }
      ],
      "source": [
        "def add(l):\n",
        "  sum=0\n",
        "  for i in l:\n",
        "    sum+=i\n",
        "  return sum\n",
        "i=int(input(\"enter the no of elements\"))\n",
        "l=[]\n",
        "for i in  range(0,i):\n",
        "  ele=int(input(\"enter the no.\"))\n",
        "  l.append(ele)\n",
        "s=add(l)\n",
        "print(\"the sum of all elements is =\",s)\n",
        "\n",
        "\n"
      ]
    }
  ]
}